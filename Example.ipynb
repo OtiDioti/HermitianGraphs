{
 "cells": [
  {
   "cell_type": "code",
   "execution_count": 1,
   "id": "38276404-7c41-42d4-90e4-2d4476144a1f",
   "metadata": {},
   "outputs": [],
   "source": [
    "from Modules.classes import * \n",
    "from matplotlib.animation import FuncAnimation, PillowWriter\n",
    "import matplotlib.pyplot as plt"
   ]
  },
  {
   "cell_type": "code",
   "execution_count": 2,
   "id": "97772e48-2afc-47ab-b027-f2ee95f11874",
   "metadata": {},
   "outputs": [],
   "source": [
    "H = Hamiltonian(dim = 10, emax = 1) # define random hamiltonian\n",
    "dt = 1 / (np.abs(H.energies.max()) * 10 )# dt value much smaller than lower energy in the system\n",
    "t_f = 100 # time of integration"
   ]
  },
  {
   "cell_type": "code",
   "execution_count": 3,
   "id": "bdc07c0d-996e-435f-b8cb-e2e3a9834a44",
   "metadata": {},
   "outputs": [
    {
     "name": "stderr",
     "output_type": "stream",
     "text": [
      "Propagating: 100%|█████████████████████████████████████████████| 1924/1924 [00:33<00:00, 57.43it/s]\n"
     ]
    }
   ],
   "source": [
    "cmap_nodes = 'coolwarm' # color of nodes\n",
    "cmap_edges = 'hsv' # color of edges\n",
    "state_v = np.random.choice(np.linspace(-1j, 1j, 1000), size = H.dim) # initialize random vector\n",
    "state_v = np.zeros(H.dim, complex)\n",
    "state_v[0] = 1\n",
    "state_v = state_v / np.linalg.norm(state_v) # normalize initial vector\n",
    "state = State(state_v = state_v, H = H, col_map_nodes = cmap_nodes, col_map_edges = cmap_edges) # construct state object\n",
    "\n",
    "states = state.propagate(H, dt = dt, t_final = t_f, sim_tol = 0, \n",
    "                         col_map_nodes = cmap_nodes,\n",
    "                         col_map_edges = cmap_edges) # propagating intial state"
   ]
  },
  {
   "cell_type": "code",
   "execution_count": null,
   "id": "f8f5b4bc-8c5c-453c-83e5-ce6065e23628",
   "metadata": {},
   "outputs": [],
   "source": [
    "# Animating state graph\n",
    "plt.rcParams[\"figure.figsize\"] = [7.50, 7.50]\n",
    "plt.rcParams[\"figure.autolayout\"] = True\n",
    "fig, ax = plt.subplots()\n",
    "fig.set_facecolor(\"black\")\n",
    "ax.set_facecolor(\"black\")\n",
    "\n",
    "G = states[0].state_graph\n",
    "layout = nx.circular_layout(G)\n",
    "\n",
    "nx.draw_networkx_edges(G, layout, edgelist = dict(G.edges).keys(),\n",
    "                       alpha = [G.edges[edge][\"alpha\"] for edge in dict(G.edges).keys()],\n",
    "                       edge_color = \"white\")\n",
    "nx.draw_networkx_nodes(G, layout,\n",
    "                       alpha = [G.nodes[node][\"alpha\"] for node in dict(G.nodes).keys()],\n",
    "                       node_color = [G.nodes[node][\"color\"] for node in dict(G.nodes).keys()])\n",
    "nx.draw_networkx_labels(G,layout)\n",
    "\n",
    "def animate(frame):\n",
    "   ax.clear()\n",
    "   G = states[frame].state_graph\n",
    "   nx.draw_networkx_edges(G, layout, edgelist = dict(G.edges).keys(),\n",
    "                          alpha = [G.edges[edge][\"alpha\"] for edge in dict(G.edges).keys()],\n",
    "                          edge_color = \"white\")\n",
    "   nx.draw_networkx_nodes(G, layout,\n",
    "                          alpha = [G.nodes[node][\"alpha\"] for node in dict(G.nodes).keys()],\n",
    "                          node_color = [G.nodes[node][\"color\"] for node in dict(G.nodes).keys()])\n",
    "   anim = nx.draw_networkx_labels(G, layout)\n",
    "ani = FuncAnimation(fig, animate, frames=len(states), interval=100, repeat=False)\n",
    "writergif = PillowWriter(fps=80)\n",
    "ani.save('state.gif', writer = writergif) \n",
    "plt.show()"
   ]
  },
  {
   "cell_type": "code",
   "execution_count": null,
   "id": "6b51c4fd",
   "metadata": {},
   "outputs": [],
   "source": [
    "# Animating density matrix state graph\n",
    "plt.rcParams[\"figure.figsize\"] = [7.50, 7.50]\n",
    "plt.rcParams[\"figure.autolayout\"] = True\n",
    "fig, ax = plt.subplots()\n",
    "fig.set_facecolor(\"black\")\n",
    "ax.set_facecolor(\"black\")\n",
    "\n",
    "G = states[0].dense_graph\n",
    "layout = nx.circular_layout(G)\n",
    "\n",
    "nx.draw_networkx_edges(G, layout, edgelist = dict(G.edges).keys(), \n",
    "                       alpha = [G.edges[edge][\"alpha\"] for edge in dict(G.edges).keys()],\n",
    "                       edge_color = [G.edges[edge][\"color\"] for edge in dict(G.edges).keys()],\n",
    "                       edge_cmap = plt.get_cmap(cmap_edges),\n",
    "                       edge_vmin = -np.pi, edge_vmax = np.pi)\n",
    "nx.draw_networkx_nodes(G, layout,\n",
    "                       node_color = [G.nodes[node][\"color\"] for node in dict(G.nodes).keys()],\n",
    "                       #node_color = \"white\",\n",
    "                       #alpha = [G.nodes[node][\"alpha\"] for node in dict(G.nodes).keys()]\n",
    "                      )\n",
    "nx.draw_networkx_labels(G,layout)\n",
    "\n",
    "def animate(frame):\n",
    "   ax.clear()\n",
    "   G = states[frame].dense_graph\n",
    "   nx.draw_networkx_edges(G, layout, edgelist = dict(G.edges).keys(), \n",
    "                       alpha = [G.edges[edge][\"alpha\"] for edge in dict(G.edges).keys()],\n",
    "                       edge_color = [G.edges[edge][\"color\"] for edge in dict(G.edges).keys()],\n",
    "                       edge_cmap = plt.get_cmap(cmap_edges),\n",
    "                       edge_vmin = -np.pi, edge_vmax = np.pi)\n",
    "   nx.draw_networkx_nodes(G, layout,\n",
    "                          node_color = [G.nodes[node][\"color\"] for node in dict(G.nodes).keys()],\n",
    "                          #node_color = \"white\",\n",
    "                          #alpha = [G.nodes[node][\"alpha\"] for node in dict(G.nodes).keys()]\n",
    "                         )\n",
    "   anim = nx.draw_networkx_labels(G, layout)\n",
    "\n",
    "ani = FuncAnimation(fig, animate, frames=len(states), interval=100, repeat=False)\n",
    "writergif = PillowWriter(fps=80)\n",
    "ani.save('density.gif', writer = writergif) \n",
    "plt.show()"
   ]
  }
 ],
 "metadata": {
  "kernelspec": {
   "display_name": "Python 3 (ipykernel)",
   "language": "python",
   "name": "python3"
  },
  "language_info": {
   "codemirror_mode": {
    "name": "ipython",
    "version": 3
   },
   "file_extension": ".py",
   "mimetype": "text/x-python",
   "name": "python",
   "nbconvert_exporter": "python",
   "pygments_lexer": "ipython3",
   "version": "3.11.4"
  }
 },
 "nbformat": 4,
 "nbformat_minor": 5
}
